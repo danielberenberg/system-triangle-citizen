{
 "cells": [
  {
   "cell_type": "markdown",
   "metadata": {},
   "source": [
    "# tmscore-analysis\n",
    "\n",
    "Sampled 100 proteins from CATH and modeled them with various sets of (pairwise) (atom/angular) constraints.\n",
    "- $C_{\\alpha}$\n",
    "- $C_{\\alpha}$, $C_{\\beta}$\n",
    "- $C_{\\alpha}$, $\\varphi$, $\\theta$, $\\omega$"
   ]
  },
  {
   "cell_type": "code",
   "execution_count": 2,
   "metadata": {},
   "outputs": [],
   "source": [
    "import matplotlib.pyplot as plt\n",
    "import pandas as pd\n",
    "\n",
    "from pathlib import Path"
   ]
  },
  {
   "cell_type": "code",
   "execution_count": 4,
   "metadata": {},
   "outputs": [],
   "source": [
    "data = Path(\"../data\")\n",
    "cst1 = data / \"ca_tmscores.tsv\"\n",
    "cst2 = data / \"cacb_tmscores.tsv\"\n",
    "cst3 = data / \"ca_phi_omega_theta_tmscores.tsv\"\n",
    "\n",
    "cst1_df, cst2_df, cst3_df = map(pd.read_table, (cst1, cst2, cst3))"
   ]
  },
  {
   "cell_type": "code",
   "execution_count": 32,
   "metadata": {
    "scrolled": true
   },
   "outputs": [
    {
     "data": {
      "image/png": "[encoded data removed]",
      "text/plain": [
       "<Figure size 432x288 with 2 Axes>"
      ]
     },
     "metadata": {
      "needs_background": "light"
     },
     "output_type": "display_data"
    }
   ],
   "source": [
    "fig, (ax1, ax2) = plt.subplots(2,1, sharex=True)\n",
    "\n",
    "Ca    = \"$C\\\\alpha$\"\n",
    "Cb    = \"$C\\\\beta$\"\n",
    "phi   = \"$\\\\varphi$\"\n",
    "theta = \"$\\\\theta$\"\n",
    "omega = \"$\\\\omega$\"\n",
    "\n",
    "csts = [Ca, f\"{Ca}-{Cb}\", f\"{Ca}-{phi}-{theta}-{omega}\"]\n",
    "ax1.set_title(f\"TM-score({Ca}) performance\")\n",
    "for cst, df in zip(csts, (cst1_df, cst2_df, cst3_df)):\n",
    "    ax1.hist(df.CA.values, label=cst, bins=50, histtype='step')\n",
    "ax1.legend()\n",
    "\n",
    "fig.text(0.04, 0.5, 'Count', va='center', rotation='vertical')\n",
    "\n",
    "ax2.set_xlabel(\"TM-score\")\n",
    "\n",
    "ax2.set_title(f\"TM-score({Cb}) performance\")\n",
    "for cst, df in zip(csts, (cst1_df, cst2_df, cst3_df)):\n",
    "    ax2.hist(df.CB.values, label=cst, bins=50, histtype='step')\n",
    "#ax1.set_xticks([])\n",
    "\n",
    "plt.savefig(\"figs/TMScores__CATHrand100__varying_constraints.png\")\n",
    "plt.show()"
   ]
  },
  {
   "cell_type": "code",
   "execution_count": null,
   "metadata": {},
   "outputs": [],
   "source": []
  }
 ],
 "metadata": {
  "kernelspec": {
   "display_name": "Python 3",
   "language": "python",
   "name": "python3"
  },
  "language_info": {
   "codemirror_mode": {
    "name": "ipython",
    "version": 3
   },
   "file_extension": ".py",
   "mimetype": "text/x-python",
   "name": "python",
   "nbconvert_exporter": "python",
   "pygments_lexer": "ipython3",
   "version": "3.7.5"
  }
 },
 "nbformat": 4,
 "nbformat_minor": 4
}
